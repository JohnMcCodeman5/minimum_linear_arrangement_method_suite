{
 "cells": [
  {
   "cell_type": "code",
   "execution_count": 1,
   "metadata": {},
   "outputs": [],
   "source": [
    "import random\n",
    "import numpy as np\n",
    "import pandas as pd\n",
    "from matplotlib import pyplot as plt\n",
    "from copy import deepcopy\n",
    "import data_generation as dg"
   ]
  },
  {
   "cell_type": "code",
   "execution_count": 2,
   "metadata": {},
   "outputs": [],
   "source": [
    "graph, random_solution, total_edge_length = dg.read_instance('data\\data8.txt')\n",
    "num_nodes = len(graph)"
   ]
  },
  {
   "cell_type": "code",
   "execution_count": 3,
   "metadata": {},
   "outputs": [],
   "source": [
    "\n",
    "def greedy_linear_arrangement(graph, start_node):\n",
    "    num_nodes = len(graph)\n",
    "    #linear_arrangement = [random.choice(range(len(graph)))]\n",
    "    linear_arrangement = [start_node]\n",
    "\n",
    "    #greedy algorithm\n",
    "    for _ in range(num_nodes - 1):\n",
    "        best_node = None\n",
    "        best_cost = float('inf')\n",
    "\n",
    "        for node in range(num_nodes):\n",
    "            if node not in linear_arrangement:\n",
    "                current_cost = 0\n",
    "                for placed_node in linear_arrangement:\n",
    "                    current_cost += graph[node][placed_node]\n",
    "\n",
    "                if current_cost < best_cost:\n",
    "                    best_cost = current_cost\n",
    "                    best_node = node\n",
    "\n",
    "        linear_arrangement.append(best_node)\n",
    "\n",
    "    return linear_arrangement"
   ]
  },
  {
   "cell_type": "code",
   "execution_count": 4,
   "metadata": {},
   "outputs": [
    {
     "name": "stdout",
     "output_type": "stream",
     "text": [
      "[7, 1, 5, 6, 0, 3, 2, 4] 46\n"
     ]
    }
   ],
   "source": [
    "#test for random starting node\n",
    "greedy_solution = greedy_linear_arrangement(graph, 7)\n",
    "greedy_value = dg.calculate_total_edge_length(graph, greedy_solution)\n",
    "print(greedy_solution, greedy_value)"
   ]
  },
  {
   "cell_type": "code",
   "execution_count": 5,
   "metadata": {},
   "outputs": [
    {
     "name": "stdout",
     "output_type": "stream",
     "text": [
      "[0, 1, 6, 3, 5, 7, 2, 4] 44\n",
      "[1, 0, 6, 3, 5, 7, 2, 4] 41\n",
      "[2, 1, 4, 5, 3, 6, 0, 7] 45\n",
      "[3, 0, 6, 1, 5, 7, 2, 4] 47\n",
      "[4, 1, 2, 5, 3, 6, 0, 7] 45\n",
      "[5, 1, 4, 2, 3, 6, 0, 7] 39\n",
      "[6, 0, 1, 3, 5, 7, 2, 4] 43\n",
      "[7, 1, 5, 6, 0, 3, 2, 4] 46\n",
      "[5, 1, 4, 2, 3, 6, 0, 7] 39\n"
     ]
    }
   ],
   "source": [
    "import time\n",
    "\n",
    "greedy_solutions = [None for i in range(num_nodes)]\n",
    "greedy_values = [None for i in range(num_nodes)]\n",
    "best_greedy_value = float('inf')\n",
    "best_greedy_i = 0\n",
    "\n",
    "time_best = -1\n",
    "time_current = -1\n",
    "\n",
    "begining = time.time()\n",
    "for i in range(num_nodes):\n",
    "    start = time.time()\n",
    "    greedy_solutions[i] = greedy_linear_arrangement(graph, i)\n",
    "    end = time.time()\n",
    "\n",
    "    duration = float(\"{:.2f}\".format(end - start))\n",
    "\n",
    "    time_current = duration\n",
    "\n",
    "    greedy_values[i] = dg.calculate_total_edge_length(graph, greedy_solutions[i])\n",
    "\n",
    "    print(greedy_solutions[i], greedy_values[i])\n",
    "\n",
    "    if greedy_values[i] < best_greedy_value:\n",
    "        best_greedy_value = greedy_values[i]\n",
    "        best_greedy_i = i\n",
    "        time_best = time_current\n",
    "\n",
    "    if abs(time.time() - begining) >= 650:\n",
    "        print('time limit exceeded')\n",
    "        break    \n",
    "\n",
    "print(greedy_solutions[best_greedy_i], best_greedy_value)    "
   ]
  },
  {
   "cell_type": "code",
   "execution_count": 6,
   "metadata": {},
   "outputs": [],
   "source": [
    "import pandas as pd\n",
    "df = pd.DataFrame({'Dim': num_nodes, 'Method':  'greedy_algorithm', 'Value': best_greedy_value, 'Time': time_best}, index=[0])\n",
    "df.to_csv('comparison_tables/greedy.csv', mode='a', header=not pd.io.common.file_exists('comparison_tables/greedy.csv'), index=False)"
   ]
  },
  {
   "cell_type": "code",
   "execution_count": 7,
   "metadata": {},
   "outputs": [],
   "source": [
    "\n",
    "df_best = pd.read_csv('comparison_tables/bests.csv')\n",
    "df_avg = pd.read_csv('comparison_tables/averages.csv')\n",
    "row_to_update = df_best[df_best['Dim'] == num_nodes]\n",
    "\n",
    "if not row_to_update.empty:\n",
    "\n",
    "    df_best.loc[row_to_update.index, 'greedy'] = best_greedy_value\n",
    "    df_best.loc[row_to_update.index, 'greedy_time'] = duration\n",
    "    df_best.to_csv('comparison_tables/bests.csv', index=False)\n",
    "\n",
    "    #now to write averages...but here there is only one result which is both the best and avg\n",
    "    df_avg.loc[row_to_update.index, 'greedy'] = best_greedy_value\n",
    "    df_avg.loc[row_to_update.index, 'greedy_time'] = duration\n",
    "    df_avg.to_csv('comparison_tables/averages.csv', index=False)\n",
    "else:\n",
    "    new_row_data = {'Dim': num_nodes, 'greedy': best_greedy_value, 'greedy_time': duration}\n",
    "    df_best.loc[len(df)] = new_row_data\n",
    "    df_best.to_csv('comparison_tables/bests.csv', index=False)\n",
    "\n",
    "    df_avg.loc[len(df)] = new_row_data\n",
    "    df_avg.to_csv('comparison_tables/averages.csv', index=False)"
   ]
  },
  {
   "cell_type": "code",
   "execution_count": null,
   "metadata": {},
   "outputs": [],
   "source": []
  }
 ],
 "metadata": {
  "kernelspec": {
   "display_name": "Python 3",
   "language": "python",
   "name": "python3"
  },
  "language_info": {
   "codemirror_mode": {
    "name": "ipython",
    "version": 3
   },
   "file_extension": ".py",
   "mimetype": "text/x-python",
   "name": "python",
   "nbconvert_exporter": "python",
   "pygments_lexer": "ipython3",
   "version": "3.10.11"
  }
 },
 "nbformat": 4,
 "nbformat_minor": 2
}
