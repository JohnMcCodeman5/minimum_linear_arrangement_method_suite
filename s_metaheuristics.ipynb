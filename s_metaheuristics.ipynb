{
 "cells": [
  {
   "cell_type": "code",
   "execution_count": 1,
   "metadata": {},
   "outputs": [],
   "source": [
    "import random\n",
    "import numpy as np\n",
    "import pandas as pd\n",
    "from matplotlib import pyplot as plt\n",
    "from copy import deepcopy\n",
    "import data_generation as dg\n",
    "import time"
   ]
  },
  {
   "cell_type": "code",
   "execution_count": 3,
   "metadata": {},
   "outputs": [],
   "source": [
    "graph, random_solution, total_edge_length = dg.read_instance('data\\data8.txt')\n",
    "num_nodes = len(graph)"
   ]
  },
  {
   "cell_type": "code",
   "execution_count": 4,
   "metadata": {},
   "outputs": [],
   "source": [
    "sols = []\n",
    "values = []\n",
    "iters = []\n",
    "times = []"
   ]
  },
  {
   "cell_type": "markdown",
   "metadata": {},
   "source": [
    "<span style=\"font-size: larger;\">Classic local search</span>"
   ]
  },
  {
   "cell_type": "code",
   "execution_count": 5,
   "metadata": {},
   "outputs": [],
   "source": [
    "def make_change_swap(graph, solution):\n",
    "    new_solution = solution.copy()\n",
    "    \n",
    "    index1, index2 = random.sample(range(len(solution)), 2)\n",
    "    \n",
    "    new_solution[index1], new_solution[index2] = new_solution[index2], new_solution[index1]\n",
    "\n",
    "    return new_solution"
   ]
  },
  {
   "cell_type": "code",
   "execution_count": 6,
   "metadata": {},
   "outputs": [],
   "source": [
    "def make_change_inverse(graph, solution):\n",
    "    new_solution = solution.copy()\n",
    "    \n",
    "    index1, index2 = sorted(random.sample(range(len(solution)), 2))\n",
    "    \n",
    "    new_solution[index1:index2+1] = reversed(new_solution[index1:index2+1])\n",
    "\n",
    "    return new_solution"
   ]
  },
  {
   "cell_type": "code",
   "execution_count": 7,
   "metadata": {},
   "outputs": [],
   "source": [
    "def make_change_next_permutation(graph, solution):\n",
    "    #based on the classic next permutation algorithm\n",
    "    #we will be using this in a modified local search when regular methods get stuck in hopes of finding\n",
    "    #a better solution close to the current one\n",
    "    new_solution = deepcopy(solution)\n",
    "    \n",
    "    n = len(new_solution)\n",
    "    \n",
    "    k = n - 2\n",
    "    while k >= 0 and new_solution[k] >= new_solution[k + 1]:\n",
    "        k -= 1\n",
    "\n",
    "    if k == -1:\n",
    "        return sorted(new_solution)\n",
    "\n",
    "    l = n - 1\n",
    "    while new_solution[k] >= new_solution[l]:\n",
    "        l -= 1\n",
    "\n",
    "    new_solution[k], new_solution[l] = new_solution[l], new_solution[k]\n",
    "\n",
    "    new_solution[k + 1:] = reversed(new_solution[k + 1:])\n",
    "\n",
    "    return new_solution\n"
   ]
  },
  {
   "cell_type": "code",
   "execution_count": 8,
   "metadata": {},
   "outputs": [],
   "source": [
    "def make_change_scramble(graph, solution):\n",
    "    #another change function, as the name suggest, this one will scramble a section of the solution\n",
    "    #this wouldn't be the method we use if we only tested one version, but since there are plenty of change functions and combinations,\n",
    "    #this one might prove most useful in larger dimension\n",
    "    new_solution = deepcopy(solution)\n",
    "    \n",
    "    start, end = sorted(random.sample(range(len(solution)), 2))\n",
    "\n",
    "    subset = solution[start:end+1]\n",
    "\n",
    "    random.shuffle(subset)\n",
    "\n",
    "    new_solution[start:end+1] = subset\n",
    "\n",
    "    return new_solution"
   ]
  },
  {
   "cell_type": "code",
   "execution_count": 9,
   "metadata": {},
   "outputs": [],
   "source": [
    "def local_search(graph, random_solution, value, num_iters, change_func):\n",
    "    solution = deepcopy(random_solution)\n",
    "    best_solution = deepcopy(solution)\n",
    "    best_value = value\n",
    "    best_i = None\n",
    "\n",
    "    for i in range(num_iters):\n",
    "        #print(solution, value, i)\n",
    "        new_solution = change_func(graph, solution)\n",
    "        new_value = dg.calculate_total_edge_length(graph, new_solution)\n",
    "\n",
    "        if new_value < value:\n",
    "            value = new_value\n",
    "            solution = deepcopy(new_solution)\n",
    "\n",
    "            if new_value < best_value:\n",
    "                best_i = i\n",
    "                best_value = new_value\n",
    "                best_solution = deepcopy(new_solution)\n",
    "\n",
    "    return best_solution, best_value, best_i"
   ]
  },
  {
   "cell_type": "code",
   "execution_count": 10,
   "metadata": {},
   "outputs": [
    {
     "name": "stdout",
     "output_type": "stream",
     "text": [
      "[5, 2, 0, 6, 7, 4, 3, 1] 21 23\n"
     ]
    }
   ],
   "source": [
    "start = time.time()\n",
    "solution, value, iter = local_search(graph, random_solution, total_edge_length, 500, change_func=make_change_swap)\n",
    "end = time.time()\n",
    "duration = float(\"{:.2f}\".format(end - start))\n",
    "print(solution, value, iter)\n",
    "sols.append(solution)\n",
    "values.append(value)\n",
    "iters.append(iter)\n",
    "times.append(duration)"
   ]
  },
  {
   "cell_type": "code",
   "execution_count": 11,
   "metadata": {},
   "outputs": [
    {
     "name": "stdout",
     "output_type": "stream",
     "text": [
      "[1, 3, 6, 4, 7, 2, 0, 5] 21 216\n"
     ]
    }
   ],
   "source": [
    "start = time.time()\n",
    "solution, value, iter = local_search(graph, random_solution, total_edge_length, 500, change_func=make_change_inverse)\n",
    "end = time.time()\n",
    "duration = float(\"{:.2f}\".format(end - start))\n",
    "print(solution, value, iter)\n",
    "sols.append(solution)\n",
    "values.append(value)\n",
    "iters.append(iter)\n",
    "times.append(duration)"
   ]
  },
  {
   "cell_type": "code",
   "execution_count": 12,
   "metadata": {},
   "outputs": [
    {
     "name": "stdout",
     "output_type": "stream",
     "text": [
      "[5, 0, 2, 6, 7, 4, 3, 1] 21 98\n"
     ]
    }
   ],
   "source": [
    "start = time.time()\n",
    "solution, value, iter = local_search(graph, random_solution, total_edge_length, 500, change_func=make_change_scramble)\n",
    "end = time.time()\n",
    "duration = float(\"{:.2f}\".format(end - start))\n",
    "print(solution, value, iter)\n",
    "sols.append(solution)\n",
    "values.append(value)\n",
    "iters.append(iter)\n",
    "times.append(duration)"
   ]
  },
  {
   "cell_type": "code",
   "execution_count": 13,
   "metadata": {},
   "outputs": [
    {
     "data": {
      "text/html": [
       "<div>\n",
       "<style scoped>\n",
       "    .dataframe tbody tr th:only-of-type {\n",
       "        vertical-align: middle;\n",
       "    }\n",
       "\n",
       "    .dataframe tbody tr th {\n",
       "        vertical-align: top;\n",
       "    }\n",
       "\n",
       "    .dataframe thead th {\n",
       "        text-align: right;\n",
       "    }\n",
       "</style>\n",
       "<table border=\"1\" class=\"dataframe\">\n",
       "  <thead>\n",
       "    <tr style=\"text-align: right;\">\n",
       "      <th></th>\n",
       "      <th>Dim</th>\n",
       "      <th>Method</th>\n",
       "      <th>Value</th>\n",
       "      <th>Time</th>\n",
       "    </tr>\n",
       "  </thead>\n",
       "  <tbody>\n",
       "    <tr>\n",
       "      <th>0</th>\n",
       "      <td>8</td>\n",
       "      <td>make_change_swap</td>\n",
       "      <td>21</td>\n",
       "      <td>0.01</td>\n",
       "    </tr>\n",
       "    <tr>\n",
       "      <th>1</th>\n",
       "      <td>8</td>\n",
       "      <td>make_change_inverse</td>\n",
       "      <td>21</td>\n",
       "      <td>0.02</td>\n",
       "    </tr>\n",
       "    <tr>\n",
       "      <th>2</th>\n",
       "      <td>8</td>\n",
       "      <td>make_change_scramble</td>\n",
       "      <td>21</td>\n",
       "      <td>0.02</td>\n",
       "    </tr>\n",
       "  </tbody>\n",
       "</table>\n",
       "</div>"
      ],
      "text/plain": [
       "   Dim                Method  Value  Time\n",
       "0    8      make_change_swap     21  0.01\n",
       "1    8   make_change_inverse     21  0.02\n",
       "2    8  make_change_scramble     21  0.02"
      ]
     },
     "metadata": {},
     "output_type": "display_data"
    }
   ],
   "source": [
    "#generating comparison table\n",
    "from IPython.display import display\n",
    "import pandas as pd\n",
    "dim = num_nodes\n",
    "\n",
    "results = []\n",
    "\n",
    "best = float('inf')\n",
    "best_i = -1\n",
    "\n",
    "average = [0,0,0]\n",
    "\n",
    "number_of_combinations = 0\n",
    "\n",
    "solution_generation = [make_change_swap, make_change_inverse, make_change_scramble]\n",
    "for i, sg in enumerate(solution_generation):\n",
    "    method = sg.__name__\n",
    "    results.append({'Dim': dim, 'Method': method, 'Value': values[i], 'Time': times[i], 'Best_Iter': iters[i]})\n",
    "\n",
    "    if values[i] == best:\n",
    "        if times[i] <= times[best_i]:\n",
    "            best = values[i]\n",
    "            best_i = i\n",
    "\n",
    "    if values[i] < best:\n",
    "        best = values[i]\n",
    "        best_i = i\n",
    "\n",
    "    average[0] += values[i]\n",
    "    average[1] += times[i] \n",
    "    average[2] += iters[i]\n",
    "\n",
    "    number_of_combinations += 1\n",
    "\n",
    "df = pd.DataFrame(results)\n",
    "#display(df)\n",
    "display(df.drop('Best_Iter', axis=1)) "
   ]
  },
  {
   "cell_type": "code",
   "execution_count": 14,
   "metadata": {},
   "outputs": [
    {
     "name": "stdout",
     "output_type": "stream",
     "text": [
      "best: make_change_swap 21 0.01 23\n"
     ]
    },
    {
     "data": {
      "text/html": [
       "<div>\n",
       "<style scoped>\n",
       "    .dataframe tbody tr th:only-of-type {\n",
       "        vertical-align: middle;\n",
       "    }\n",
       "\n",
       "    .dataframe tbody tr th {\n",
       "        vertical-align: top;\n",
       "    }\n",
       "\n",
       "    .dataframe thead th {\n",
       "        text-align: right;\n",
       "    }\n",
       "</style>\n",
       "<table border=\"1\" class=\"dataframe\">\n",
       "  <thead>\n",
       "    <tr style=\"text-align: right;\">\n",
       "      <th></th>\n",
       "      <th>Dim</th>\n",
       "      <th>Method</th>\n",
       "      <th>Value</th>\n",
       "      <th>Time</th>\n",
       "      <th>Best_Iter</th>\n",
       "    </tr>\n",
       "  </thead>\n",
       "  <tbody>\n",
       "    <tr>\n",
       "      <th>0</th>\n",
       "      <td>8</td>\n",
       "      <td>make_change_swap</td>\n",
       "      <td>21</td>\n",
       "      <td>0.01</td>\n",
       "      <td>23</td>\n",
       "    </tr>\n",
       "  </tbody>\n",
       "</table>\n",
       "</div>"
      ],
      "text/plain": [
       "   Dim            Method  Value  Time  Best_Iter\n",
       "0    8  make_change_swap     21  0.01         23"
      ]
     },
     "metadata": {},
     "output_type": "display_data"
    }
   ],
   "source": [
    "print('best:', solution_generation[best_i].__name__, values[best_i], times[best_i], iters[best_i])\n",
    "df_best = pd.DataFrame({'Dim': dim, 'Method':  solution_generation[best_i].__name__, 'Value': values[best_i], 'Time': times[best_i], 'Best_Iter': iters[best_i]}, index=[0])\n",
    "display(df_best)"
   ]
  },
  {
   "cell_type": "code",
   "execution_count": 15,
   "metadata": {},
   "outputs": [],
   "source": [
    "df = pd.read_csv('comparison_tables/bests.csv')\n",
    "row_to_update = df[df['Dim'] == num_nodes]\n",
    "\n",
    "#check if first write to the specified row\n",
    "if not row_to_update.empty:\n",
    "    #update specific columns in the located row\n",
    "    df.loc[row_to_update.index, 'local_search'] = values[best_i]\n",
    "    df.loc[row_to_update.index, 'local_search_time'] = times[best_i]\n",
    "\n",
    "    #save the updated DataFrame back to the CSV file\n",
    "    df.to_csv('comparison_tables/bests.csv', index=False)\n",
    "else:\n",
    "    new_row_data = {'Dim': num_nodes, 'local_search': values[best_i], 'local_search_time': times[best_i]}\n",
    "    df.loc[len(df)] = new_row_data\n",
    "    df.to_csv('comparison_tables/bests.csv', index=False)"
   ]
  },
  {
   "cell_type": "code",
   "execution_count": 16,
   "metadata": {},
   "outputs": [
    {
     "name": "stdout",
     "output_type": "stream",
     "text": [
      "average: [21.0, 0.02, 112.33]\n"
     ]
    },
    {
     "data": {
      "text/html": [
       "<div>\n",
       "<style scoped>\n",
       "    .dataframe tbody tr th:only-of-type {\n",
       "        vertical-align: middle;\n",
       "    }\n",
       "\n",
       "    .dataframe tbody tr th {\n",
       "        vertical-align: top;\n",
       "    }\n",
       "\n",
       "    .dataframe thead th {\n",
       "        text-align: right;\n",
       "    }\n",
       "</style>\n",
       "<table border=\"1\" class=\"dataframe\">\n",
       "  <thead>\n",
       "    <tr style=\"text-align: right;\">\n",
       "      <th></th>\n",
       "      <th>Dim</th>\n",
       "      <th>Value</th>\n",
       "      <th>Time</th>\n",
       "      <th>Best_Iter</th>\n",
       "    </tr>\n",
       "  </thead>\n",
       "  <tbody>\n",
       "    <tr>\n",
       "      <th>0</th>\n",
       "      <td>8</td>\n",
       "      <td>21.0</td>\n",
       "      <td>0.02</td>\n",
       "      <td>112.33</td>\n",
       "    </tr>\n",
       "  </tbody>\n",
       "</table>\n",
       "</div>"
      ],
      "text/plain": [
       "   Dim  Value  Time  Best_Iter\n",
       "0    8   21.0  0.02     112.33"
      ]
     },
     "metadata": {},
     "output_type": "display_data"
    }
   ],
   "source": [
    "average = [average[0] / number_of_combinations, average[1] / number_of_combinations, average[2] / number_of_combinations]\n",
    "average = [round(num, 2) for num in average]\n",
    "print('average:', average)\n",
    "df_avg = pd.DataFrame({'Dim': dim, 'Value': average[0], 'Time': average[1], 'Best_Iter': average[2]}, index=[0])\n",
    "display(df_avg)"
   ]
  },
  {
   "cell_type": "code",
   "execution_count": 17,
   "metadata": {},
   "outputs": [],
   "source": [
    "df = pd.read_csv('comparison_tables/averages.csv')\n",
    "row_to_update = df[df['Dim'] == num_nodes]\n",
    "\n",
    "if not row_to_update.empty:\n",
    "    df.loc[row_to_update.index, 'local_search'] = average[0]\n",
    "    df.loc[row_to_update.index, 'local_search_time'] = average[1]\n",
    "\n",
    "\n",
    "    df.to_csv('comparison_tables/averages.csv', index=False)\n",
    "else:\n",
    "    df.loc[len(df)] = {'Dim': num_nodes, 'local_search': average[0], 'local_search_time': average[1]}\n",
    "    df.to_csv('comparison_tables/averages.csv', index=False)"
   ]
  },
  {
   "cell_type": "markdown",
   "metadata": {},
   "source": [
    "<span style=\"font-size: larger;\">Local search with next permutation help</span>"
   ]
  },
  {
   "cell_type": "code",
   "execution_count": 18,
   "metadata": {},
   "outputs": [],
   "source": [
    "sols = []\n",
    "values = []\n",
    "iters = []\n",
    "times = []\n",
    "\n",
    "def local_search_with_permutation(graph, random_solution, value, num_iters, change_func):\n",
    "    solution = deepcopy(random_solution)\n",
    "    best_solution = deepcopy(solution)\n",
    "    best_value = value\n",
    "    best_i = None\n",
    "\n",
    "    for i in range(num_iters):\n",
    "        #print(solution, value, i)\n",
    "        new_solution = change_func(graph, solution)\n",
    "        new_value = dg.calculate_total_edge_length(graph, new_solution)\n",
    "\n",
    "        if new_value < value:\n",
    "            value = new_value\n",
    "            solution = deepcopy(new_solution)\n",
    "\n",
    "            if new_value < best_value:\n",
    "                best_i = i\n",
    "                best_value = new_value\n",
    "                best_solution = deepcopy(new_solution)\n",
    "\n",
    "        else:\n",
    "            perm_counter = 0\n",
    "            perm_limit = num_iters / (i+1)\n",
    "            while new_value >= value and perm_counter < perm_limit:    \n",
    "                new_solution = make_change_next_permutation(graph, new_solution)\n",
    "                new_value = dg.calculate_total_edge_length(graph, new_solution)\n",
    "                perm_counter += 1\n",
    "\n",
    "            if new_value < value:\n",
    "                value = new_value\n",
    "                solution = deepcopy(new_solution)\n",
    "\n",
    "                if new_value < best_value:\n",
    "                    best_i = i\n",
    "                    best_value = new_value\n",
    "                    best_solution = deepcopy(new_solution)\n",
    "              \n",
    "\n",
    "    return best_solution, best_value, best_i"
   ]
  },
  {
   "cell_type": "code",
   "execution_count": 19,
   "metadata": {},
   "outputs": [
    {
     "name": "stdout",
     "output_type": "stream",
     "text": [
      "[6, 5, 2, 0, 4, 7, 3, 1] 21 10\n"
     ]
    }
   ],
   "source": [
    "start = time.time()\n",
    "solution, value, iter = local_search_with_permutation(graph, random_solution, total_edge_length, 500, change_func=make_change_inverse)\n",
    "end = time.time()\n",
    "duration = float(\"{:.2f}\".format(end - start))\n",
    "print(solution, value, iter)\n",
    "sols.append(solution)\n",
    "values.append(value)\n",
    "iters.append(iter)\n",
    "times.append(duration)"
   ]
  },
  {
   "cell_type": "code",
   "execution_count": 20,
   "metadata": {},
   "outputs": [
    {
     "name": "stdout",
     "output_type": "stream",
     "text": [
      "[1, 3, 7, 4, 0, 2, 5, 6] 21 108\n"
     ]
    }
   ],
   "source": [
    "start = time.time()\n",
    "solution, value, iter = local_search_with_permutation(graph, random_solution, total_edge_length, 500, change_func=make_change_swap)\n",
    "end = time.time()\n",
    "duration = float(\"{:.2f}\".format(end - start))\n",
    "print(solution, value, iter)\n",
    "sols.append(solution)\n",
    "values.append(value)\n",
    "iters.append(iter)\n",
    "times.append(duration)"
   ]
  },
  {
   "cell_type": "code",
   "execution_count": 21,
   "metadata": {},
   "outputs": [
    {
     "name": "stdout",
     "output_type": "stream",
     "text": [
      "[1, 3, 7, 4, 6, 0, 2, 5] 21 22\n"
     ]
    }
   ],
   "source": [
    "start = time.time()\n",
    "solution, value, iter = local_search_with_permutation(graph, random_solution, total_edge_length, 500, change_func=make_change_scramble)\n",
    "end = time.time()\n",
    "duration = float(\"{:.2f}\".format(end - start))\n",
    "print(solution, value, iter)\n",
    "sols.append(solution)\n",
    "values.append(value)\n",
    "iters.append(iter)\n",
    "times.append(duration)"
   ]
  },
  {
   "cell_type": "code",
   "execution_count": 22,
   "metadata": {},
   "outputs": [
    {
     "data": {
      "text/html": [
       "<div>\n",
       "<style scoped>\n",
       "    .dataframe tbody tr th:only-of-type {\n",
       "        vertical-align: middle;\n",
       "    }\n",
       "\n",
       "    .dataframe tbody tr th {\n",
       "        vertical-align: top;\n",
       "    }\n",
       "\n",
       "    .dataframe thead th {\n",
       "        text-align: right;\n",
       "    }\n",
       "</style>\n",
       "<table border=\"1\" class=\"dataframe\">\n",
       "  <thead>\n",
       "    <tr style=\"text-align: right;\">\n",
       "      <th></th>\n",
       "      <th>Dim</th>\n",
       "      <th>Method</th>\n",
       "      <th>Value</th>\n",
       "      <th>Time</th>\n",
       "    </tr>\n",
       "  </thead>\n",
       "  <tbody>\n",
       "    <tr>\n",
       "      <th>0</th>\n",
       "      <td>8</td>\n",
       "      <td>make_change_swap_with_permutation</td>\n",
       "      <td>21</td>\n",
       "      <td>0.09</td>\n",
       "    </tr>\n",
       "    <tr>\n",
       "      <th>1</th>\n",
       "      <td>8</td>\n",
       "      <td>make_change_inverse_with_permutation</td>\n",
       "      <td>21</td>\n",
       "      <td>0.09</td>\n",
       "    </tr>\n",
       "    <tr>\n",
       "      <th>2</th>\n",
       "      <td>8</td>\n",
       "      <td>make_change_scramble_with_permutation</td>\n",
       "      <td>21</td>\n",
       "      <td>0.09</td>\n",
       "    </tr>\n",
       "  </tbody>\n",
       "</table>\n",
       "</div>"
      ],
      "text/plain": [
       "   Dim                                 Method  Value  Time\n",
       "0    8      make_change_swap_with_permutation     21  0.09\n",
       "1    8   make_change_inverse_with_permutation     21  0.09\n",
       "2    8  make_change_scramble_with_permutation     21  0.09"
      ]
     },
     "metadata": {},
     "output_type": "display_data"
    }
   ],
   "source": [
    "#generating comparison table\n",
    "from IPython.display import display\n",
    "import pandas as pd\n",
    "dim = num_nodes\n",
    "\n",
    "results = []\n",
    "\n",
    "best = float('inf')\n",
    "best_i = -1\n",
    "\n",
    "average = [0,0,0]\n",
    "\n",
    "number_of_combinations = 0\n",
    "\n",
    "solution_generation = [make_change_swap, make_change_inverse, make_change_scramble]\n",
    "for i, sg in enumerate(solution_generation):\n",
    "    method = sg.__name__ + '_with_permutation'\n",
    "    results.append({'Dim': dim, 'Method': method, 'Value': values[i], 'Time': times[i], 'Best_Iter': iters[i]})\n",
    "\n",
    "    if values[i] == best:\n",
    "        if times[i] <= times[best_i]:\n",
    "            best = values[i]\n",
    "            best_i = i\n",
    "\n",
    "    if values[i] < best:\n",
    "        best = values[i]\n",
    "        best_i = i    \n",
    "\n",
    "    average[0] += values[i]\n",
    "    average[1] += times[i] \n",
    "    average[2] += iters[i]\n",
    "\n",
    "    number_of_combinations += 1\n",
    "\n",
    "df = pd.DataFrame(results)\n",
    "#display(df)\n",
    "display(df.drop('Best_Iter', axis=1)) "
   ]
  },
  {
   "cell_type": "code",
   "execution_count": 23,
   "metadata": {},
   "outputs": [
    {
     "name": "stdout",
     "output_type": "stream",
     "text": [
      "best: make_change_scramble 21 0.09 22\n"
     ]
    },
    {
     "data": {
      "text/html": [
       "<div>\n",
       "<style scoped>\n",
       "    .dataframe tbody tr th:only-of-type {\n",
       "        vertical-align: middle;\n",
       "    }\n",
       "\n",
       "    .dataframe tbody tr th {\n",
       "        vertical-align: top;\n",
       "    }\n",
       "\n",
       "    .dataframe thead th {\n",
       "        text-align: right;\n",
       "    }\n",
       "</style>\n",
       "<table border=\"1\" class=\"dataframe\">\n",
       "  <thead>\n",
       "    <tr style=\"text-align: right;\">\n",
       "      <th></th>\n",
       "      <th>Dim</th>\n",
       "      <th>Method</th>\n",
       "      <th>Value</th>\n",
       "      <th>Time</th>\n",
       "      <th>Best_Iter</th>\n",
       "    </tr>\n",
       "  </thead>\n",
       "  <tbody>\n",
       "    <tr>\n",
       "      <th>0</th>\n",
       "      <td>8</td>\n",
       "      <td>make_change_scramble_with_permutation</td>\n",
       "      <td>21</td>\n",
       "      <td>0.09</td>\n",
       "      <td>22</td>\n",
       "    </tr>\n",
       "  </tbody>\n",
       "</table>\n",
       "</div>"
      ],
      "text/plain": [
       "   Dim                                 Method  Value  Time  Best_Iter\n",
       "0    8  make_change_scramble_with_permutation     21  0.09         22"
      ]
     },
     "metadata": {},
     "output_type": "display_data"
    }
   ],
   "source": [
    "print('best:', solution_generation[best_i].__name__, values[best_i], times[best_i], iters[best_i])\n",
    "df_best = pd.DataFrame({'Dim': dim, 'Method':  solution_generation[best_i].__name__ + '_with_permutation', 'Value': values[best_i], 'Time': times[best_i], 'Best_Iter': iters[best_i]}, index=[0])\n",
    "display(df_best)"
   ]
  },
  {
   "cell_type": "code",
   "execution_count": 24,
   "metadata": {},
   "outputs": [],
   "source": [
    "df = pd.read_csv('comparison_tables/bests.csv')\n",
    "row_to_update = df[df['Dim'] == num_nodes]\n",
    "\n",
    "if not row_to_update.empty:\n",
    "    df.loc[row_to_update.index, 'local_search_perm'] = values[best_i]\n",
    "    df.loc[row_to_update.index, 'local_search_perm_time'] = times[best_i]\n",
    "\n",
    "    df.to_csv('comparison_tables/bests.csv', index=False)\n",
    "else:\n",
    "    new_row_data = {'Dim': num_nodes, 'local_search_perm': values[best_i], 'local_search_perm_time': times[best_i]}\n",
    "    df.loc[len(df)] = new_row_data\n",
    "    df.to_csv('comparison_tables/bests.csv', index=False)"
   ]
  },
  {
   "cell_type": "code",
   "execution_count": 25,
   "metadata": {},
   "outputs": [
    {
     "name": "stdout",
     "output_type": "stream",
     "text": [
      "average: [21.0, 0.09, 46.67]\n"
     ]
    },
    {
     "data": {
      "text/html": [
       "<div>\n",
       "<style scoped>\n",
       "    .dataframe tbody tr th:only-of-type {\n",
       "        vertical-align: middle;\n",
       "    }\n",
       "\n",
       "    .dataframe tbody tr th {\n",
       "        vertical-align: top;\n",
       "    }\n",
       "\n",
       "    .dataframe thead th {\n",
       "        text-align: right;\n",
       "    }\n",
       "</style>\n",
       "<table border=\"1\" class=\"dataframe\">\n",
       "  <thead>\n",
       "    <tr style=\"text-align: right;\">\n",
       "      <th></th>\n",
       "      <th>Dim</th>\n",
       "      <th>Value</th>\n",
       "      <th>Time</th>\n",
       "      <th>Best_Iter</th>\n",
       "    </tr>\n",
       "  </thead>\n",
       "  <tbody>\n",
       "    <tr>\n",
       "      <th>0</th>\n",
       "      <td>8</td>\n",
       "      <td>21.0</td>\n",
       "      <td>0.09</td>\n",
       "      <td>46.67</td>\n",
       "    </tr>\n",
       "  </tbody>\n",
       "</table>\n",
       "</div>"
      ],
      "text/plain": [
       "   Dim  Value  Time  Best_Iter\n",
       "0    8   21.0  0.09      46.67"
      ]
     },
     "metadata": {},
     "output_type": "display_data"
    }
   ],
   "source": [
    "average = [average[0] / number_of_combinations, average[1] / number_of_combinations, average[2] / number_of_combinations]\n",
    "average = [round(num, 2) for num in average]\n",
    "print('average:', average)\n",
    "df_avg = pd.DataFrame({'Dim': dim, 'Value': average[0], 'Time': average[1], 'Best_Iter': average[2]}, index=[0])\n",
    "display(df_avg)"
   ]
  },
  {
   "cell_type": "code",
   "execution_count": 26,
   "metadata": {},
   "outputs": [],
   "source": [
    "df = pd.read_csv('comparison_tables/averages.csv')\n",
    "row_to_update = df[df['Dim'] == num_nodes]\n",
    "\n",
    "if not row_to_update.empty:\n",
    "    df.loc[row_to_update.index, 'local_search_perm'] = average[0]\n",
    "    df.loc[row_to_update.index, 'local_search_perm_time'] = average[1]\n",
    "\n",
    "    df.to_csv('comparison_tables/averages.csv', index=False)\n",
    "else:\n",
    "    df.loc[len(df)] = {'Dim': num_nodes, 'local_search_perm': average[0], 'local_search_perm_time': average[1]}\n",
    "    df.to_csv('comparison_tables/averages.csv', index=False)"
   ]
  },
  {
   "cell_type": "markdown",
   "metadata": {},
   "source": [
    "<span style=\"font-size: larger;\">Simulated annealing</span>"
   ]
  },
  {
   "cell_type": "code",
   "execution_count": 27,
   "metadata": {},
   "outputs": [],
   "source": [
    "sols = []\n",
    "values = []\n",
    "iters = []\n",
    "times = []\n",
    "\n",
    "def simulated_annealing(graph, random_solution, value, num_iters, change_func):\n",
    "    solution = deepcopy(random_solution)\n",
    "    best_solution = deepcopy(solution)\n",
    "    best_value = value\n",
    "    best_i = None\n",
    "\n",
    "    for i in range(1, num_iters + 1):\n",
    "        #print(solution, value)\n",
    "        new_solution = change_func(graph, solution)\n",
    "        new_value = dg.calculate_total_edge_length(graph, new_solution)\n",
    "\n",
    "        if new_value < value:\n",
    "            value = new_value\n",
    "            solution = deepcopy(new_solution)\n",
    "\n",
    "            if new_value < best_value:\n",
    "                best_i = i\n",
    "                best_value = new_value\n",
    "                best_solution = deepcopy(new_solution)\n",
    "\n",
    "        #elif random.random() < 1 / (i**0.5):\n",
    "        elif random.random() < 1 / i:\n",
    "            #print('divs')\n",
    "            value = new_value\n",
    "            solution = deepcopy(new_solution)\n",
    "\n",
    "    return best_solution, best_value, best_i"
   ]
  },
  {
   "cell_type": "code",
   "execution_count": 28,
   "metadata": {},
   "outputs": [
    {
     "name": "stdout",
     "output_type": "stream",
     "text": [
      "[5, 2, 0, 6, 4, 7, 3, 1] 21 87\n"
     ]
    }
   ],
   "source": [
    "start = time.time()\n",
    "solution, value, iter = simulated_annealing(graph, random_solution, total_edge_length, 500, change_func=make_change_swap)\n",
    "end = time.time()\n",
    "duration = float(\"{:.2f}\".format(end - start))\n",
    "print(solution, value, iter)\n",
    "sols.append(solution)\n",
    "values.append(value)\n",
    "iters.append(iter)\n",
    "times.append(duration)"
   ]
  },
  {
   "cell_type": "code",
   "execution_count": 29,
   "metadata": {},
   "outputs": [
    {
     "name": "stdout",
     "output_type": "stream",
     "text": [
      "[5, 2, 0, 7, 6, 4, 3, 1] 21 101\n"
     ]
    }
   ],
   "source": [
    "start = time.time()\n",
    "solution, value, iter = simulated_annealing(graph, random_solution, total_edge_length, 500, change_func=make_change_inverse)\n",
    "end = time.time()\n",
    "duration = float(\"{:.2f}\".format(end - start))\n",
    "print(solution, value, iter)\n",
    "sols.append(solution)\n",
    "values.append(value)\n",
    "iters.append(iter)\n",
    "times.append(duration)"
   ]
  },
  {
   "cell_type": "code",
   "execution_count": 30,
   "metadata": {},
   "outputs": [
    {
     "name": "stdout",
     "output_type": "stream",
     "text": [
      "[5, 0, 2, 6, 4, 7, 3, 1] 21 28\n"
     ]
    }
   ],
   "source": [
    "start = time.time()\n",
    "solution, value, iter = simulated_annealing(graph, random_solution, total_edge_length, 500, change_func=make_change_scramble)\n",
    "end = time.time()\n",
    "duration = float(\"{:.2f}\".format(end - start))\n",
    "print(solution, value, iter)\n",
    "sols.append(solution)\n",
    "values.append(value)\n",
    "iters.append(iter)\n",
    "times.append(duration)"
   ]
  },
  {
   "cell_type": "code",
   "execution_count": 31,
   "metadata": {},
   "outputs": [
    {
     "data": {
      "text/html": [
       "<div>\n",
       "<style scoped>\n",
       "    .dataframe tbody tr th:only-of-type {\n",
       "        vertical-align: middle;\n",
       "    }\n",
       "\n",
       "    .dataframe tbody tr th {\n",
       "        vertical-align: top;\n",
       "    }\n",
       "\n",
       "    .dataframe thead th {\n",
       "        text-align: right;\n",
       "    }\n",
       "</style>\n",
       "<table border=\"1\" class=\"dataframe\">\n",
       "  <thead>\n",
       "    <tr style=\"text-align: right;\">\n",
       "      <th></th>\n",
       "      <th>Dim</th>\n",
       "      <th>Method</th>\n",
       "      <th>Value</th>\n",
       "      <th>Time</th>\n",
       "    </tr>\n",
       "  </thead>\n",
       "  <tbody>\n",
       "    <tr>\n",
       "      <th>0</th>\n",
       "      <td>8</td>\n",
       "      <td>simulated_annealing, make_change_swap</td>\n",
       "      <td>21</td>\n",
       "      <td>0.01</td>\n",
       "    </tr>\n",
       "    <tr>\n",
       "      <th>1</th>\n",
       "      <td>8</td>\n",
       "      <td>simulated_annealing, make_change_inverse</td>\n",
       "      <td>21</td>\n",
       "      <td>0.01</td>\n",
       "    </tr>\n",
       "    <tr>\n",
       "      <th>2</th>\n",
       "      <td>8</td>\n",
       "      <td>simulated_annealing, make_change_scramble</td>\n",
       "      <td>21</td>\n",
       "      <td>0.02</td>\n",
       "    </tr>\n",
       "  </tbody>\n",
       "</table>\n",
       "</div>"
      ],
      "text/plain": [
       "   Dim                                     Method  Value  Time\n",
       "0    8      simulated_annealing, make_change_swap     21  0.01\n",
       "1    8   simulated_annealing, make_change_inverse     21  0.01\n",
       "2    8  simulated_annealing, make_change_scramble     21  0.02"
      ]
     },
     "metadata": {},
     "output_type": "display_data"
    }
   ],
   "source": [
    "#generating comparison table\n",
    "from IPython.display import display\n",
    "import pandas as pd\n",
    "dim = num_nodes\n",
    "\n",
    "results = []\n",
    "\n",
    "best = float('inf')\n",
    "best_i = -1\n",
    "\n",
    "average = [0,0,0]\n",
    "\n",
    "number_of_combinations = 0\n",
    "\n",
    "solution_generation = [make_change_swap, make_change_inverse, make_change_scramble]\n",
    "for i, sg in enumerate(solution_generation):\n",
    "    method = sg.__name__\n",
    "    results.append({'Dim': dim, 'Method': 'simulated_annealing' + ', '  + method, 'Value': values[i], 'Time': times[i], 'Best_Iter': iters[i]})\n",
    "\n",
    "    if values[i] == best:\n",
    "        if times[i] <= times[best_i]:\n",
    "            best = values[i]\n",
    "            best_i = i\n",
    "\n",
    "    if values[i] < best:\n",
    "        best = values[i]\n",
    "        best_i = i\n",
    "\n",
    "    average[0] += values[i]\n",
    "    average[1] += times[i] \n",
    "    average[2] += iters[i]\n",
    "\n",
    "    number_of_combinations += 1\n",
    "\n",
    "df = pd.DataFrame(results)\n",
    "#display(df)\n",
    "display(df.drop('Best_Iter', axis=1)) "
   ]
  },
  {
   "cell_type": "code",
   "execution_count": 32,
   "metadata": {},
   "outputs": [
    {
     "name": "stdout",
     "output_type": "stream",
     "text": [
      "best: make_change_inverse 21 0.01 101\n"
     ]
    },
    {
     "data": {
      "text/html": [
       "<div>\n",
       "<style scoped>\n",
       "    .dataframe tbody tr th:only-of-type {\n",
       "        vertical-align: middle;\n",
       "    }\n",
       "\n",
       "    .dataframe tbody tr th {\n",
       "        vertical-align: top;\n",
       "    }\n",
       "\n",
       "    .dataframe thead th {\n",
       "        text-align: right;\n",
       "    }\n",
       "</style>\n",
       "<table border=\"1\" class=\"dataframe\">\n",
       "  <thead>\n",
       "    <tr style=\"text-align: right;\">\n",
       "      <th></th>\n",
       "      <th>Dim</th>\n",
       "      <th>Method</th>\n",
       "      <th>Value</th>\n",
       "      <th>Time</th>\n",
       "      <th>Best_Iter</th>\n",
       "    </tr>\n",
       "  </thead>\n",
       "  <tbody>\n",
       "    <tr>\n",
       "      <th>0</th>\n",
       "      <td>8</td>\n",
       "      <td>simulated_annealing, make_change_inverse</td>\n",
       "      <td>21</td>\n",
       "      <td>0.01</td>\n",
       "      <td>101</td>\n",
       "    </tr>\n",
       "  </tbody>\n",
       "</table>\n",
       "</div>"
      ],
      "text/plain": [
       "   Dim                                    Method  Value  Time  Best_Iter\n",
       "0    8  simulated_annealing, make_change_inverse     21  0.01        101"
      ]
     },
     "metadata": {},
     "output_type": "display_data"
    }
   ],
   "source": [
    "print('best:', solution_generation[best_i].__name__, values[best_i], times[best_i], iters[best_i])\n",
    "df_best = pd.DataFrame({'Dim': dim, 'Method':  'simulated_annealing' + ', '  + solution_generation[best_i].__name__, 'Value': values[best_i], 'Time': times[best_i], 'Best_Iter': iters[best_i]}, index=[0])\n",
    "display(df_best)"
   ]
  },
  {
   "cell_type": "code",
   "execution_count": 33,
   "metadata": {},
   "outputs": [],
   "source": [
    "df = pd.read_csv('comparison_tables/bests.csv')\n",
    "row_to_update = df[df['Dim'] == num_nodes]\n",
    "\n",
    "# Check if the row exists\n",
    "if not row_to_update.empty:\n",
    "    # Update specific columns in the located row\n",
    "    df.loc[row_to_update.index, 'sim_annealing'] = values[best_i]\n",
    "    df.loc[row_to_update.index, 'sim_annealing_time'] = times[best_i]\n",
    "\n",
    "    # Save the updated DataFrame back to the CSV file\n",
    "    df.to_csv('comparison_tables/bests.csv', index=False)\n",
    "else:\n",
    "    new_row_data = {'Dim': num_nodes, 'sim_annealing': values[best_i], 'sim_annealing_time': times[best_i]}\n",
    "    df.loc[len(df)] = new_row_data\n",
    "    df.to_csv('comparison_tables/bests.csv', index=False)"
   ]
  },
  {
   "cell_type": "code",
   "execution_count": 34,
   "metadata": {},
   "outputs": [
    {
     "name": "stdout",
     "output_type": "stream",
     "text": [
      "average: [21.0, 0.01, 72.0]\n"
     ]
    },
    {
     "data": {
      "text/html": [
       "<div>\n",
       "<style scoped>\n",
       "    .dataframe tbody tr th:only-of-type {\n",
       "        vertical-align: middle;\n",
       "    }\n",
       "\n",
       "    .dataframe tbody tr th {\n",
       "        vertical-align: top;\n",
       "    }\n",
       "\n",
       "    .dataframe thead th {\n",
       "        text-align: right;\n",
       "    }\n",
       "</style>\n",
       "<table border=\"1\" class=\"dataframe\">\n",
       "  <thead>\n",
       "    <tr style=\"text-align: right;\">\n",
       "      <th></th>\n",
       "      <th>Dim</th>\n",
       "      <th>Value</th>\n",
       "      <th>Time</th>\n",
       "      <th>Best_Iter</th>\n",
       "    </tr>\n",
       "  </thead>\n",
       "  <tbody>\n",
       "    <tr>\n",
       "      <th>0</th>\n",
       "      <td>8</td>\n",
       "      <td>21.0</td>\n",
       "      <td>0.01</td>\n",
       "      <td>72.0</td>\n",
       "    </tr>\n",
       "  </tbody>\n",
       "</table>\n",
       "</div>"
      ],
      "text/plain": [
       "   Dim  Value  Time  Best_Iter\n",
       "0    8   21.0  0.01       72.0"
      ]
     },
     "metadata": {},
     "output_type": "display_data"
    }
   ],
   "source": [
    "average = [average[0] / number_of_combinations, average[1] / number_of_combinations, average[2] / number_of_combinations]\n",
    "average = [round(num, 2) for num in average]\n",
    "print('average:', average)\n",
    "df_avg = pd.DataFrame({'Dim': dim, 'Value': average[0], 'Time': average[1], 'Best_Iter': average[2]}, index=[0])\n",
    "display(df_avg)"
   ]
  },
  {
   "cell_type": "code",
   "execution_count": 35,
   "metadata": {},
   "outputs": [],
   "source": [
    "df = pd.read_csv('comparison_tables/averages.csv')\n",
    "row_to_update = df[df['Dim'] == num_nodes]\n",
    "\n",
    "# Check if the row exists\n",
    "if not row_to_update.empty:\n",
    "    # Update specific columns in the located row\n",
    "    df.loc[row_to_update.index, 'sim_annealing'] = average[0]\n",
    "    df.loc[row_to_update.index, 'sim_annealing_time'] = average[1]\n",
    "\n",
    "    # Save the updated DataFrame back to the CSV file\n",
    "    df.to_csv('comparison_tables/averages.csv', index=False)\n",
    "else:\n",
    "    df.loc[len(df)] = {'Dim': num_nodes, 'sim_annealing_perm': average[0], 'sim_annealing_time': average[1]}\n",
    "    df.to_csv('comparison_tables/averages.csv', index=False)"
   ]
  },
  {
   "cell_type": "markdown",
   "metadata": {},
   "source": [
    "<span style=\"font-size: larger;\">Variable neigborhood search</span>"
   ]
  },
  {
   "cell_type": "code",
   "execution_count": 36,
   "metadata": {},
   "outputs": [],
   "source": [
    "def shaking_swap(graph, solution, k):\n",
    "    new_solution = deepcopy(solution)\n",
    "    selected = random.sample(range(len(solution)), 2*k)\n",
    "    for i in range(0,len(selected), 2):\n",
    "        index1, index2 = selected[i], selected[i+1]\n",
    "        new_solution[index1], new_solution[index2] = new_solution[index2], new_solution[index1]\n",
    "    return new_solution    \n",
    "    "
   ]
  },
  {
   "cell_type": "code",
   "execution_count": 37,
   "metadata": {},
   "outputs": [],
   "source": [
    "def shaking_inverse(graph, solution, k):\n",
    "    new_solution = deepcopy(solution)\n",
    "    index1 = random.randint(0, len(solution))\n",
    "    if(index1 + k > len(solution)):\n",
    "        index1 = len(solution) - k\n",
    "    index2 = index1 + k                       \n",
    "    new_solution[index1:index2+1] = reversed(new_solution[index1:index2+1])  \n",
    "\n",
    "    return new_solution"
   ]
  },
  {
   "cell_type": "code",
   "execution_count": 38,
   "metadata": {},
   "outputs": [],
   "source": [
    "def vns(graph, random_solution, value, num_iters, change_func, shaking_func, local_search_func, k_min, k_max, move_prob):\n",
    "    solution = deepcopy(random_solution)\n",
    "    best_i = None\n",
    "    for i in range(num_iters):\n",
    "        for k in range(k_min, k_max):\n",
    "            #print('vns: ', solution, value, i)\n",
    "            #diversification\n",
    "            new_solution = shaking_func(graph, solution, k)   \n",
    "\n",
    "            new_value = dg.calculate_total_edge_length(graph, new_solution)\n",
    "\n",
    "            #print('post shaking: ', new_solution, new_value, i)\n",
    "            new_solution, new_value, _= local_search_func(graph, new_solution, total_edge_length, 10, change_func)\n",
    "\n",
    "            if new_value < value or (new_value == value and random.random() < move_prob):\n",
    "                if(new_value < value):\n",
    "                    best_i = i\n",
    "\n",
    "                value = new_value\n",
    "\n",
    "                solution = deepcopy(new_solution)\n",
    "                \n",
    "    return solution, value, best_i"
   ]
  },
  {
   "cell_type": "code",
   "execution_count": 39,
   "metadata": {},
   "outputs": [
    {
     "name": "stdout",
     "output_type": "stream",
     "text": [
      "shaking_swap make_change_swap local_search  :  [1, 3, 7, 4, 0, 5, 2, 6] 21 2 \n",
      "\n"
     ]
    },
    {
     "name": "stdout",
     "output_type": "stream",
     "text": [
      "shaking_swap make_change_swap local_search_with_permutation  :  [6, 2, 5, 0, 4, 7, 3, 1] 21 3 \n",
      "\n",
      "shaking_swap make_change_inverse local_search  :  [5, 2, 0, 7, 6, 4, 3, 1] 21 4 \n",
      "\n",
      "shaking_swap make_change_inverse local_search_with_permutation  :  [1, 3, 7, 4, 0, 2, 5, 6] 21 0 \n",
      "\n",
      "shaking_swap make_change_scramble local_search  :  [1, 3, 7, 4, 0, 6, 2, 5] 21 0 \n",
      "\n",
      "shaking_swap make_change_scramble local_search_with_permutation  :  [6, 2, 5, 0, 4, 7, 3, 1] 21 3 \n",
      "\n",
      "shaking_inverse make_change_swap local_search  :  [6, 5, 2, 0, 4, 7, 3, 1] 21 1 \n",
      "\n",
      "shaking_inverse make_change_swap local_search_with_permutation  :  [5, 2, 6, 0, 7, 4, 3, 1] 21 2 \n",
      "\n",
      "shaking_inverse make_change_inverse local_search  :  [1, 3, 4, 7, 6, 0, 2, 5] 21 6 \n",
      "\n",
      "shaking_inverse make_change_inverse local_search_with_permutation  :  [5, 0, 2, 6, 4, 7, 3, 1] 21 1 \n",
      "\n",
      "shaking_inverse make_change_scramble local_search  :  [5, 2, 0, 7, 4, 6, 3, 1] 21 2 \n",
      "\n",
      "shaking_inverse make_change_scramble local_search_with_permutation  :  [5, 6, 2, 0, 4, 7, 3, 1] 21 0 \n",
      "\n"
     ]
    }
   ],
   "source": [
    "#too many combos for VNS, we will iterrate\n",
    "#this soulution SHOULD NOT be used regularly, as the cell execution time will be MUCH longer than the sum of it's parts for some reason (notebook problem?)\n",
    "#for example, for a certain n, if we split this into seperate cells the sum of exec time would be 3mins, this way it's around 5-6mins\n",
    "#hopefully this doesn't seem to affect individual duration calculations...\n",
    "n = len(graph)\n",
    "\n",
    "oc = False\n",
    "\n",
    "shakings = [shaking_swap, shaking_inverse]\n",
    "changes_funcs = [make_change_swap, make_change_inverse, make_change_scramble]\n",
    "search_funcs = [local_search, local_search_with_permutation]\n",
    "\n",
    "number_of_combinations = 0\n",
    "\n",
    "sols = []\n",
    "values =[]\n",
    "times = []\n",
    "\n",
    "methods = []\n",
    "\n",
    "results = []\n",
    "\n",
    "best = float('inf')\n",
    "best_i = -1\n",
    "\n",
    "average = [0,0]\n",
    "\n",
    "k_min = int(0.1 * num_nodes)\n",
    "k_max = int(0.3 * num_nodes)\n",
    "for shake in shakings:\n",
    "    for change in changes_funcs:\n",
    "        for search in search_funcs:\n",
    "            if shake.__name__ == 'shaking_inverse':\n",
    "                k_min = int(0.3 * num_nodes)\n",
    "                k_max = int(0.6 * num_nodes)\n",
    "\n",
    "            start = time.time()    \n",
    "            sol, value, iter = vns(graph, \n",
    "                                   random_solution, \n",
    "                                   total_edge_length, \n",
    "                                   500, \n",
    "                                   change_func=change, \n",
    "                                   shaking_func=shake, \n",
    "                                   local_search_func = search, \n",
    "                                   k_min=k_min,\n",
    "                                   k_max=k_max, \n",
    "                                   move_prob=0.4)\n",
    "            end = time.time()\n",
    "            duration = float(\"{:.2f}\".format(end - start))\n",
    "            \n",
    "            print(shake.__name__, change.__name__, search.__name__, ' : ', sol, value, iter, '\\n')\n",
    "            \n",
    "            k_min = int(0.1 * num_nodes)\n",
    "            k_max = int(0.3 * num_nodes)\n",
    "\n",
    "            sols.append(sol)\n",
    "            values.append(value)\n",
    "            iters.append(iter)\n",
    "            times.append(duration)\n",
    "\n",
    "            methods.append(str(shake.__name__ + ', ' + change.__name__ + ', ' + search.__name__))\n",
    "\n",
    "            results.append({'Dim': num_nodes, 'Method': methods[number_of_combinations], 'Value': abs(value), 'Time': duration})\n",
    "\n",
    "            if value == best:\n",
    "                if duration <= times[best_i]:    \n",
    "                    best = value\n",
    "                    best_i = number_of_combinations\n",
    "\n",
    "            if value < best:\n",
    "                best = value\n",
    "                best_i = number_of_combinations            \n",
    "\n",
    "            average[0] += value\n",
    "            average[1] += duration\n",
    "\n",
    "            number_of_combinations += 1    \n"
   ]
  },
  {
   "cell_type": "code",
   "execution_count": 40,
   "metadata": {},
   "outputs": [
    {
     "data": {
      "text/html": [
       "<div>\n",
       "<style scoped>\n",
       "    .dataframe tbody tr th:only-of-type {\n",
       "        vertical-align: middle;\n",
       "    }\n",
       "\n",
       "    .dataframe tbody tr th {\n",
       "        vertical-align: top;\n",
       "    }\n",
       "\n",
       "    .dataframe thead th {\n",
       "        text-align: right;\n",
       "    }\n",
       "</style>\n",
       "<table border=\"1\" class=\"dataframe\">\n",
       "  <thead>\n",
       "    <tr style=\"text-align: right;\">\n",
       "      <th></th>\n",
       "      <th>Dim</th>\n",
       "      <th>Method</th>\n",
       "      <th>Value</th>\n",
       "      <th>Time</th>\n",
       "    </tr>\n",
       "  </thead>\n",
       "  <tbody>\n",
       "    <tr>\n",
       "      <th>0</th>\n",
       "      <td>8</td>\n",
       "      <td>shaking_swap, make_change_swap, local_search</td>\n",
       "      <td>21</td>\n",
       "      <td>0.27</td>\n",
       "    </tr>\n",
       "    <tr>\n",
       "      <th>1</th>\n",
       "      <td>8</td>\n",
       "      <td>shaking_swap, make_change_swap, local_search_w...</td>\n",
       "      <td>21</td>\n",
       "      <td>0.92</td>\n",
       "    </tr>\n",
       "    <tr>\n",
       "      <th>2</th>\n",
       "      <td>8</td>\n",
       "      <td>shaking_swap, make_change_inverse, local_search</td>\n",
       "      <td>21</td>\n",
       "      <td>0.26</td>\n",
       "    </tr>\n",
       "    <tr>\n",
       "      <th>3</th>\n",
       "      <td>8</td>\n",
       "      <td>shaking_swap, make_change_inverse, local_searc...</td>\n",
       "      <td>21</td>\n",
       "      <td>0.64</td>\n",
       "    </tr>\n",
       "    <tr>\n",
       "      <th>4</th>\n",
       "      <td>8</td>\n",
       "      <td>shaking_swap, make_change_scramble, local_search</td>\n",
       "      <td>21</td>\n",
       "      <td>0.47</td>\n",
       "    </tr>\n",
       "    <tr>\n",
       "      <th>5</th>\n",
       "      <td>8</td>\n",
       "      <td>shaking_swap, make_change_scramble, local_sear...</td>\n",
       "      <td>21</td>\n",
       "      <td>1.00</td>\n",
       "    </tr>\n",
       "    <tr>\n",
       "      <th>6</th>\n",
       "      <td>8</td>\n",
       "      <td>shaking_inverse, make_change_swap, local_search</td>\n",
       "      <td>21</td>\n",
       "      <td>0.27</td>\n",
       "    </tr>\n",
       "    <tr>\n",
       "      <th>7</th>\n",
       "      <td>8</td>\n",
       "      <td>shaking_inverse, make_change_swap, local_searc...</td>\n",
       "      <td>21</td>\n",
       "      <td>0.86</td>\n",
       "    </tr>\n",
       "    <tr>\n",
       "      <th>8</th>\n",
       "      <td>8</td>\n",
       "      <td>shaking_inverse, make_change_inverse, local_se...</td>\n",
       "      <td>21</td>\n",
       "      <td>0.28</td>\n",
       "    </tr>\n",
       "    <tr>\n",
       "      <th>9</th>\n",
       "      <td>8</td>\n",
       "      <td>shaking_inverse, make_change_inverse, local_se...</td>\n",
       "      <td>21</td>\n",
       "      <td>0.87</td>\n",
       "    </tr>\n",
       "    <tr>\n",
       "      <th>10</th>\n",
       "      <td>8</td>\n",
       "      <td>shaking_inverse, make_change_scramble, local_s...</td>\n",
       "      <td>21</td>\n",
       "      <td>0.41</td>\n",
       "    </tr>\n",
       "    <tr>\n",
       "      <th>11</th>\n",
       "      <td>8</td>\n",
       "      <td>shaking_inverse, make_change_scramble, local_s...</td>\n",
       "      <td>21</td>\n",
       "      <td>0.98</td>\n",
       "    </tr>\n",
       "  </tbody>\n",
       "</table>\n",
       "</div>"
      ],
      "text/plain": [
       "    Dim                                             Method  Value  Time\n",
       "0     8       shaking_swap, make_change_swap, local_search     21  0.27\n",
       "1     8  shaking_swap, make_change_swap, local_search_w...     21  0.92\n",
       "2     8    shaking_swap, make_change_inverse, local_search     21  0.26\n",
       "3     8  shaking_swap, make_change_inverse, local_searc...     21  0.64\n",
       "4     8   shaking_swap, make_change_scramble, local_search     21  0.47\n",
       "5     8  shaking_swap, make_change_scramble, local_sear...     21  1.00\n",
       "6     8    shaking_inverse, make_change_swap, local_search     21  0.27\n",
       "7     8  shaking_inverse, make_change_swap, local_searc...     21  0.86\n",
       "8     8  shaking_inverse, make_change_inverse, local_se...     21  0.28\n",
       "9     8  shaking_inverse, make_change_inverse, local_se...     21  0.87\n",
       "10    8  shaking_inverse, make_change_scramble, local_s...     21  0.41\n",
       "11    8  shaking_inverse, make_change_scramble, local_s...     21  0.98"
      ]
     },
     "metadata": {},
     "output_type": "display_data"
    }
   ],
   "source": [
    "df = pd.DataFrame(results)\n",
    "display(df)\n",
    "df.to_csv('comparison_tables/vns.csv', mode='a', header=not pd.io.common.file_exists('comparison_tables/vns.csv'), index=False)"
   ]
  },
  {
   "cell_type": "code",
   "execution_count": 41,
   "metadata": {},
   "outputs": [
    {
     "name": "stdout",
     "output_type": "stream",
     "text": [
      "best: shaking_swap, make_change_inverse, local_search 21 0.26\n"
     ]
    },
    {
     "data": {
      "text/html": [
       "<div>\n",
       "<style scoped>\n",
       "    .dataframe tbody tr th:only-of-type {\n",
       "        vertical-align: middle;\n",
       "    }\n",
       "\n",
       "    .dataframe tbody tr th {\n",
       "        vertical-align: top;\n",
       "    }\n",
       "\n",
       "    .dataframe thead th {\n",
       "        text-align: right;\n",
       "    }\n",
       "</style>\n",
       "<table border=\"1\" class=\"dataframe\">\n",
       "  <thead>\n",
       "    <tr style=\"text-align: right;\">\n",
       "      <th></th>\n",
       "      <th>Dim</th>\n",
       "      <th>Method</th>\n",
       "      <th>Value</th>\n",
       "      <th>Time</th>\n",
       "    </tr>\n",
       "  </thead>\n",
       "  <tbody>\n",
       "    <tr>\n",
       "      <th>0</th>\n",
       "      <td>8</td>\n",
       "      <td>shaking_swap, make_change_inverse, local_search</td>\n",
       "      <td>21</td>\n",
       "      <td>0.26</td>\n",
       "    </tr>\n",
       "  </tbody>\n",
       "</table>\n",
       "</div>"
      ],
      "text/plain": [
       "   Dim                                           Method  Value  Time\n",
       "0    8  shaking_swap, make_change_inverse, local_search     21  0.26"
      ]
     },
     "metadata": {},
     "output_type": "display_data"
    }
   ],
   "source": [
    "print('best:', methods[best_i], values[best_i], times[best_i])\n",
    "df_best = pd.DataFrame({'Dim': num_nodes, 'Method':  methods[best_i], 'Value': values[best_i], 'Time': times[best_i]}, index=[0])\n",
    "display(df_best)"
   ]
  },
  {
   "cell_type": "code",
   "execution_count": 42,
   "metadata": {},
   "outputs": [],
   "source": [
    "df = pd.read_csv('comparison_tables/bests.csv')\n",
    "row_to_update = df[df['Dim'] == num_nodes]\n",
    "\n",
    "if not row_to_update.empty:\n",
    "    \n",
    "    df.loc[row_to_update.index, 'vns'] = values[best_i]\n",
    "    df.loc[row_to_update.index, 'vns_time'] = times[best_i]\n",
    "\n",
    "    df.to_csv('comparison_tables/bests.csv', index=False)\n",
    "else:\n",
    "    new_row_data = {'Dim': num_nodes, 'vns': value, 'vns_time': duration}\n",
    "    df.loc[len(df)] = new_row_data\n",
    "    df.to_csv('comparison_tables/bests.csv', index=False)"
   ]
  },
  {
   "cell_type": "code",
   "execution_count": 43,
   "metadata": {},
   "outputs": [
    {
     "name": "stdout",
     "output_type": "stream",
     "text": [
      "average: [21.0, 0.6]\n"
     ]
    },
    {
     "data": {
      "text/html": [
       "<div>\n",
       "<style scoped>\n",
       "    .dataframe tbody tr th:only-of-type {\n",
       "        vertical-align: middle;\n",
       "    }\n",
       "\n",
       "    .dataframe tbody tr th {\n",
       "        vertical-align: top;\n",
       "    }\n",
       "\n",
       "    .dataframe thead th {\n",
       "        text-align: right;\n",
       "    }\n",
       "</style>\n",
       "<table border=\"1\" class=\"dataframe\">\n",
       "  <thead>\n",
       "    <tr style=\"text-align: right;\">\n",
       "      <th></th>\n",
       "      <th>Dim</th>\n",
       "      <th>Value</th>\n",
       "      <th>Time</th>\n",
       "    </tr>\n",
       "  </thead>\n",
       "  <tbody>\n",
       "    <tr>\n",
       "      <th>0</th>\n",
       "      <td>8</td>\n",
       "      <td>21.0</td>\n",
       "      <td>0.6</td>\n",
       "    </tr>\n",
       "  </tbody>\n",
       "</table>\n",
       "</div>"
      ],
      "text/plain": [
       "   Dim  Value  Time\n",
       "0    8   21.0   0.6"
      ]
     },
     "metadata": {},
     "output_type": "display_data"
    }
   ],
   "source": [
    "average = [average[0] / number_of_combinations, average[1] / number_of_combinations]\n",
    "average = [round(num, 2) for num in average]\n",
    "print('average:', average)\n",
    "df_avg = pd.DataFrame({'Dim': num_nodes, 'Value': average[0], 'Time': average[1]}, index=[0])\n",
    "display(df_avg)"
   ]
  },
  {
   "cell_type": "code",
   "execution_count": 44,
   "metadata": {},
   "outputs": [],
   "source": [
    "df = pd.read_csv('comparison_tables/averages.csv')\n",
    "row_to_update = df[df['Dim'] == num_nodes]\n",
    "\n",
    "if not row_to_update.empty:\n",
    "\n",
    "    df.loc[row_to_update.index, 'vns'] = average[0]\n",
    "    df.loc[row_to_update.index, 'vns_time'] = average[1]\n",
    "\n",
    "    df.to_csv('comparison_tables/averages.csv', index=False)\n",
    "else:\n",
    "    df.loc[len(df)] = {'Dim': num_nodes, 'vns_perm': average[0], 'vns_time': average[1]}\n",
    "    df.to_csv('comparison_tables/averages.csv', index=False)"
   ]
  }
 ],
 "metadata": {
  "kernelspec": {
   "display_name": "Python 3",
   "language": "python",
   "name": "python3"
  },
  "language_info": {
   "codemirror_mode": {
    "name": "ipython",
    "version": 3
   },
   "file_extension": ".py",
   "mimetype": "text/x-python",
   "name": "python",
   "nbconvert_exporter": "python",
   "pygments_lexer": "ipython3",
   "version": "3.10.11"
  }
 },
 "nbformat": 4,
 "nbformat_minor": 2
}
