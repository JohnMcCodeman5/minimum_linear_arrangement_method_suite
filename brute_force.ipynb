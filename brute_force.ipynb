{
 "cells": [
  {
   "cell_type": "code",
   "execution_count": 1,
   "metadata": {},
   "outputs": [],
   "source": [
    "import data_generation as dg\n",
    "import itertools\n",
    "import time"
   ]
  },
  {
   "cell_type": "code",
   "execution_count": 12,
   "metadata": {},
   "outputs": [],
   "source": [
    "#dg.generate_data_files()\n",
    "graph, _, _ = dg.read_scientific_instance('data\\\\nug_12_5.txt')\n",
    "num_nodes = len(graph)"
   ]
  },
  {
   "cell_type": "code",
   "execution_count": 13,
   "metadata": {},
   "outputs": [],
   "source": [
    "def brute_force(graph):\n",
    "    num_nodes = len(graph)\n",
    "    best_solution = None\n",
    "    best_length = float('inf')\n",
    "\n",
    "    #generate all permutations of nodes\n",
    "    all_permutations = itertools.permutations(range(num_nodes))\n",
    "\n",
    "    #check total edge length for each permutation and find the best\n",
    "    for solution in all_permutations:\n",
    "        total_length = dg.calculate_total_edge_length(graph, solution)\n",
    "        if total_length < best_length:\n",
    "            best_length = total_length\n",
    "            best_solution = solution\n",
    "\n",
    "    return best_solution, best_length"
   ]
  },
  {
   "cell_type": "code",
   "execution_count": 14,
   "metadata": {},
   "outputs": [
    {
     "name": "stdout",
     "output_type": "stream",
     "text": [
      "(4, 9, 3, 1, 2, 6, 7, 8, 0, 5, 11, 10) 241 10351.71\n"
     ]
    }
   ],
   "source": [
    "start = time.time()\n",
    "solution, value = brute_force(graph)\n",
    "end = time.time()\n",
    "duration = float(\"{:.2f}\".format(end - start))\n",
    "print(solution, value, duration)"
   ]
  },
  {
   "cell_type": "code",
   "execution_count": 15,
   "metadata": {},
   "outputs": [
    {
     "data": {
      "text/html": [
       "<div>\n",
       "<style scoped>\n",
       "    .dataframe tbody tr th:only-of-type {\n",
       "        vertical-align: middle;\n",
       "    }\n",
       "\n",
       "    .dataframe tbody tr th {\n",
       "        vertical-align: top;\n",
       "    }\n",
       "\n",
       "    .dataframe thead th {\n",
       "        text-align: right;\n",
       "    }\n",
       "</style>\n",
       "<table border=\"1\" class=\"dataframe\">\n",
       "  <thead>\n",
       "    <tr style=\"text-align: right;\">\n",
       "      <th></th>\n",
       "      <th>Dim</th>\n",
       "      <th>Method</th>\n",
       "      <th>Value</th>\n",
       "      <th>Time</th>\n",
       "    </tr>\n",
       "  </thead>\n",
       "  <tbody>\n",
       "    <tr>\n",
       "      <th>0</th>\n",
       "      <td>12</td>\n",
       "      <td>brute_force</td>\n",
       "      <td>241</td>\n",
       "      <td>10351.71</td>\n",
       "    </tr>\n",
       "  </tbody>\n",
       "</table>\n",
       "</div>"
      ],
      "text/plain": [
       "   Dim       Method  Value      Time\n",
       "0   12  brute_force    241  10351.71"
      ]
     },
     "metadata": {},
     "output_type": "display_data"
    }
   ],
   "source": [
    "import pandas as pd\n",
    "result = {'Dim': num_nodes, 'Method': 'brute_force', 'Value': value, 'Time': duration}\n",
    "df = pd.DataFrame(result, index=[0])\n",
    "display(df)\n",
    "df.to_csv('comparison_tables/brute_force.csv', mode='a', header=not pd.io.common.file_exists('comparison_tables/brute_force.csv'), index=False)"
   ]
  },
  {
   "cell_type": "code",
   "execution_count": 16,
   "metadata": {},
   "outputs": [],
   "source": [
    "\n",
    "df_best = pd.read_csv('comparison_tables/bests.csv')\n",
    "df_avg = pd.read_csv('comparison_tables/averages.csv')\n",
    "row_to_update = df_best[df_best['Dim'] == num_nodes]\n",
    "\n",
    "# Check if the row exists\n",
    "if not row_to_update.empty:\n",
    "    # Update specific columns in the located row\n",
    "    df_best.loc[row_to_update.index, 'brute_force'] = value\n",
    "    df_best.loc[row_to_update.index, 'brute_force_time'] = duration\n",
    "    df_best.to_csv('comparison_tables/bests.csv', index=False)\n",
    "\n",
    "    #now to write averages...but here there is only one result which is both the best and avg\n",
    "    df_avg.loc[row_to_update.index, 'brute_force'] = value\n",
    "    df_avg.loc[row_to_update.index, 'brute_force_time'] = duration\n",
    "    df_avg.to_csv('comparison_tables/averages.csv', index=False)\n",
    "else:\n",
    "    new_row_data = {'Dim': num_nodes, 'brute_force': value, 'brute_force_time': duration}\n",
    "    df_best.loc[len(df)] = new_row_data\n",
    "    df_best.to_csv('comparison_tables/bests.csv', index=False)\n",
    "\n",
    "    df_avg.loc[len(df)] = new_row_data\n",
    "    df_avg.to_csv('comparison_tables/averages.csv', index=False)"
   ]
  }
 ],
 "metadata": {
  "kernelspec": {
   "display_name": "Python 3",
   "language": "python",
   "name": "python3"
  },
  "language_info": {
   "codemirror_mode": {
    "name": "ipython",
    "version": 3
   },
   "file_extension": ".py",
   "mimetype": "text/x-python",
   "name": "python",
   "nbconvert_exporter": "python",
   "pygments_lexer": "ipython3",
   "version": "3.10.11"
  }
 },
 "nbformat": 4,
 "nbformat_minor": 2
}
