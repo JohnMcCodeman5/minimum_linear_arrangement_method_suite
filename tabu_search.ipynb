{
 "cells": [
  {
   "cell_type": "code",
   "execution_count": 1,
   "metadata": {},
   "outputs": [],
   "source": [
    "import random\n",
    "import numpy as np\n",
    "import pandas as pd\n",
    "from matplotlib import pyplot as plt\n",
    "from copy import deepcopy\n",
    "import data_generation as dg\n",
    "import time"
   ]
  },
  {
   "cell_type": "code",
   "execution_count": 2,
   "metadata": {},
   "outputs": [],
   "source": [
    "graph, random_solution, total_edge_length = dg.read_instance('data\\data8.txt')\n",
    "num_nodes = len(graph)"
   ]
  },
  {
   "cell_type": "code",
   "execution_count": 3,
   "metadata": {},
   "outputs": [],
   "source": [
    "def tabu_swap_neighbors(solution):\n",
    "    #for each pair of solution elements that are next to eachother, create a solution where they are swaapped\n",
    "    neighbors = []\n",
    "\n",
    "    for i in range(len(solution) - 1):\n",
    "        neighbor = solution.copy()\n",
    "        #this works in python\n",
    "        neighbor[i], neighbor[i + 1] = neighbor[i + 1], neighbor[i]\n",
    "        neighbors.append(neighbor)\n",
    "        \n",
    "    return neighbors"
   ]
  },
  {
   "cell_type": "code",
   "execution_count": 4,
   "metadata": {},
   "outputs": [],
   "source": [
    "def tabu_swap(solution):\n",
    "    #this just creates all possible swap combos, every element is swapped with every other element\n",
    "    #still polynomial, and not even that much slower, even for large N\n",
    "    solutions = []\n",
    "\n",
    "    for i in range(len(solution)):\n",
    "        for j in range(i+1, len(solution)):\n",
    "            solution = solution.copy()\n",
    "            tmp = solution[i]\n",
    "            solution[i] = solution[j]\n",
    "            solution[j] = tmp\n",
    "            solutions.append(solution)\n",
    "            \n",
    "    return solutions"
   ]
  },
  {
   "cell_type": "code",
   "execution_count": 5,
   "metadata": {},
   "outputs": [],
   "source": [
    "def tabu_inverse_complete(solution):\n",
    "    #creates all possible solutions based on inversing every possible part of the starting solution\n",
    "    #seems overkill but - surprisingly good time and results\n",
    "    solutions = []\n",
    "\n",
    "    for i in range(len(solution)):\n",
    "        for j in range(i+1, len(solution)):\n",
    "            new_solution = solution.copy()\n",
    "            new_solution[i:j] = reversed(new_solution[i:j])\n",
    "            solutions.append(new_solution)\n",
    "            \n",
    "    return solutions"
   ]
  },
  {
   "cell_type": "code",
   "execution_count": 6,
   "metadata": {},
   "outputs": [],
   "source": [
    "def tabu_inverse(solution):\n",
    "    #simpler version of the previous method:\n",
    "    #for every position i in the solution, get a random index j after it\n",
    "    #then reverse the solution from i to j\n",
    "    solutions = []\n",
    "\n",
    "    for i in range(len(solution) - 1):\n",
    "        new_solution = solution.copy()\n",
    "        j = random.randrange(i+1, len(solution))\n",
    "        new_solution[i:j] = reversed(new_solution[i:j])\n",
    "        solutions.append(new_solution)\n",
    "        \n",
    "    return solutions"
   ]
  },
  {
   "cell_type": "code",
   "execution_count": 7,
   "metadata": {},
   "outputs": [],
   "source": [
    "def tabu_scramble(solution):\n",
    "    #every time we scramble a part of the solution - we create a new solution\n",
    "    #but keep the original unchanged - the neighbourhood stems exclusivly from the original solution\n",
    "    solutions = []\n",
    "\n",
    "    for i in range(len(solution)):\n",
    "        for j in range(i+1, len(solution)):\n",
    "            new_solution = solution.copy()\n",
    "            sub = new_solution[i:j]\n",
    "            random.shuffle(sub)\n",
    "            new_solution[i:j] = sub\n",
    "            solutions.append(new_solution)\n",
    "            \n",
    "    return solutions"
   ]
  },
  {
   "cell_type": "code",
   "execution_count": 8,
   "metadata": {},
   "outputs": [],
   "source": [
    "def tabu_scramble_continuous(solution):\n",
    "    #a bit more experimental, here we keep continously changing the solution - it fits the term \"neighbourhood\" less\n",
    "    #but it widens the search\n",
    "    solutions = []\n",
    "\n",
    "    for i in range(len(solution)):\n",
    "        for j in range(i+1, len(solution)):\n",
    "            solution = solution.copy()\n",
    "            sub = solution[i:j]\n",
    "            random.shuffle(sub)\n",
    "            solution[i:j] = sub\n",
    "            solutions.append(solution)\n",
    "            \n",
    "    return solutions"
   ]
  },
  {
   "cell_type": "code",
   "execution_count": 10,
   "metadata": {},
   "outputs": [],
   "source": [
    "def tabu_search(graph, solution, max_iterations, neighbor_gen_func, tabu_tenure):\n",
    "    num_nodes = len(graph)\n",
    "    current_solution = deepcopy(solution)\n",
    "    current_value = dg.calculate_total_edge_length(graph, current_solution)\n",
    "    best_solution = current_solution.copy()\n",
    "    best_value = current_value\n",
    "    tabu_list = []\n",
    "\n",
    "    best_i = -1\n",
    "\n",
    "    for ind in range(max_iterations):\n",
    "        neighbors = neighbor_gen_func(current_solution)\n",
    "        neighbors.sort(key=lambda solution: dg.calculate_total_edge_length(graph, solution))\n",
    "        #print(neighbors[0], calculate_total_edge_length(graph, neighbors[0]))\n",
    "\n",
    "        next_solution = None\n",
    "        for neighbor in neighbors:\n",
    "            if neighbor not in tabu_list:\n",
    "                next_solution = neighbor\n",
    "                break\n",
    "\n",
    "        #if all neighbors are tabu, choose the best one\n",
    "        if next_solution is None:\n",
    "            next_solution = neighbors[0]\n",
    "\n",
    "        #update tabu list\n",
    "        #tenure decides how long already visited solutions will stay forbidden\n",
    "        tabu_list.append(next_solution)\n",
    "        if len(tabu_list) > tabu_tenure:\n",
    "            tabu_list.pop(0)\n",
    "\n",
    "        #update current solution\n",
    "        current_solution = deepcopy(next_solution)\n",
    "        current_value = dg.calculate_total_edge_length(graph, current_solution)\n",
    "\n",
    "        #update best solution\n",
    "        if current_value < best_value:\n",
    "            best_i = ind\n",
    "            best_solution = deepcopy(current_solution)\n",
    "            best_value = current_value\n",
    "\n",
    "    return best_solution, best_value, best_i"
   ]
  },
  {
   "cell_type": "code",
   "execution_count": 11,
   "metadata": {},
   "outputs": [],
   "source": [
    "sols = []\n",
    "values = []\n",
    "iters = []\n",
    "times = []"
   ]
  },
  {
   "cell_type": "code",
   "execution_count": 12,
   "metadata": {},
   "outputs": [
    {
     "name": "stdout",
     "output_type": "stream",
     "text": [
      "[5, 2, 0, 7, 4, 6, 3, 1] 21 15\n"
     ]
    }
   ],
   "source": [
    "start = time.time()\n",
    "solution, value, iter = tabu_search(graph, random_solution, 500, tabu_swap_neighbors, 5)\n",
    "end = time.time()\n",
    "duration = float(\"{:.2f}\".format(end - start))\n",
    "print(solution, value, iter)\n",
    "sols.append(solution)\n",
    "values.append(value)\n",
    "iters.append(iter)\n",
    "times.append(duration)"
   ]
  },
  {
   "cell_type": "code",
   "execution_count": 13,
   "metadata": {},
   "outputs": [
    {
     "name": "stdout",
     "output_type": "stream",
     "text": [
      "[1, 3, 4, 7, 0, 2, 5, 6] 21 5\n"
     ]
    }
   ],
   "source": [
    "start = time.time()\n",
    "solution, value, iter = tabu_search(graph, random_solution, 200, tabu_swap, 10)\n",
    "end = time.time()\n",
    "duration = float(\"{:.2f}\".format(end - start))\n",
    "print(solution, value, iter)\n",
    "sols.append(solution)\n",
    "values.append(value)\n",
    "iters.append(iter)\n",
    "times.append(duration)"
   ]
  },
  {
   "cell_type": "code",
   "execution_count": 14,
   "metadata": {},
   "outputs": [
    {
     "name": "stdout",
     "output_type": "stream",
     "text": [
      "[1, 3, 4, 7, 0, 2, 5, 6] 21 4\n"
     ]
    }
   ],
   "source": [
    "solution, value, iter = tabu_search(graph, random_solution, 200, tabu_inverse_complete, 20)\n",
    "end = time.time()\n",
    "duration = float(\"{:.2f}\".format(end - start))\n",
    "print(solution, value, iter)\n",
    "sols.append(solution)\n",
    "values.append(value)\n",
    "iters.append(iter)\n",
    "times.append(duration)"
   ]
  },
  {
   "cell_type": "code",
   "execution_count": 15,
   "metadata": {},
   "outputs": [
    {
     "name": "stdout",
     "output_type": "stream",
     "text": [
      "[1, 3, 7, 4, 0, 5, 2, 6] 21 38\n"
     ]
    }
   ],
   "source": [
    "solution, value, iter = tabu_search(graph, random_solution, 500, tabu_inverse, 5)\n",
    "end = time.time()\n",
    "duration = float(\"{:.2f}\".format(end - start))\n",
    "print(solution, value, iter)\n",
    "sols.append(solution)\n",
    "values.append(value)\n",
    "iters.append(iter)\n",
    "times.append(duration)"
   ]
  },
  {
   "cell_type": "code",
   "execution_count": 16,
   "metadata": {},
   "outputs": [
    {
     "name": "stdout",
     "output_type": "stream",
     "text": [
      "[1, 3, 4, 7, 0, 5, 2, 6] 21 34\n"
     ]
    }
   ],
   "source": [
    "solution, value, iter = tabu_search(graph, random_solution, 200, tabu_scramble, 5)\n",
    "end = time.time()\n",
    "duration = float(\"{:.2f}\".format(end - start))\n",
    "print(solution, value, iter)\n",
    "sols.append(solution)\n",
    "values.append(value)\n",
    "iters.append(iter)\n",
    "times.append(duration)"
   ]
  },
  {
   "cell_type": "code",
   "execution_count": 17,
   "metadata": {},
   "outputs": [
    {
     "name": "stdout",
     "output_type": "stream",
     "text": [
      "[1, 3, 7, 4, 0, 5, 2, 6] 21 49\n"
     ]
    }
   ],
   "source": [
    "solution, value, iter = tabu_search(graph, random_solution, 300, tabu_scramble_continuous, 5)\n",
    "end = time.time()\n",
    "duration = float(\"{:.2f}\".format(end - start))\n",
    "print(solution, value, iter)\n",
    "sols.append(solution)\n",
    "values.append(value)\n",
    "iters.append(iter)\n",
    "times.append(duration)"
   ]
  },
  {
   "cell_type": "code",
   "execution_count": 19,
   "metadata": {},
   "outputs": [
    {
     "data": {
      "text/html": [
       "<div>\n",
       "<style scoped>\n",
       "    .dataframe tbody tr th:only-of-type {\n",
       "        vertical-align: middle;\n",
       "    }\n",
       "\n",
       "    .dataframe tbody tr th {\n",
       "        vertical-align: top;\n",
       "    }\n",
       "\n",
       "    .dataframe thead th {\n",
       "        text-align: right;\n",
       "    }\n",
       "</style>\n",
       "<table border=\"1\" class=\"dataframe\">\n",
       "  <thead>\n",
       "    <tr style=\"text-align: right;\">\n",
       "      <th></th>\n",
       "      <th>Dim</th>\n",
       "      <th>Method</th>\n",
       "      <th>Value</th>\n",
       "      <th>Time</th>\n",
       "    </tr>\n",
       "  </thead>\n",
       "  <tbody>\n",
       "    <tr>\n",
       "      <th>0</th>\n",
       "      <td>8</td>\n",
       "      <td>tabu_swap_neighbors</td>\n",
       "      <td>21</td>\n",
       "      <td>0.06</td>\n",
       "    </tr>\n",
       "    <tr>\n",
       "      <th>1</th>\n",
       "      <td>8</td>\n",
       "      <td>tabu_swap</td>\n",
       "      <td>21</td>\n",
       "      <td>0.07</td>\n",
       "    </tr>\n",
       "    <tr>\n",
       "      <th>2</th>\n",
       "      <td>8</td>\n",
       "      <td>tabu_inverse_complete</td>\n",
       "      <td>21</td>\n",
       "      <td>0.15</td>\n",
       "    </tr>\n",
       "    <tr>\n",
       "      <th>3</th>\n",
       "      <td>8</td>\n",
       "      <td>tabu_inverse</td>\n",
       "      <td>21</td>\n",
       "      <td>0.24</td>\n",
       "    </tr>\n",
       "    <tr>\n",
       "      <th>4</th>\n",
       "      <td>8</td>\n",
       "      <td>tabu_scramble</td>\n",
       "      <td>21</td>\n",
       "      <td>0.35</td>\n",
       "    </tr>\n",
       "    <tr>\n",
       "      <th>5</th>\n",
       "      <td>8</td>\n",
       "      <td>tabu_scramble_continuous</td>\n",
       "      <td>21</td>\n",
       "      <td>0.57</td>\n",
       "    </tr>\n",
       "    <tr>\n",
       "      <th>6</th>\n",
       "      <td>8</td>\n",
       "      <td>tabu_double_bridge_move</td>\n",
       "      <td>23</td>\n",
       "      <td>0.61</td>\n",
       "    </tr>\n",
       "  </tbody>\n",
       "</table>\n",
       "</div>"
      ],
      "text/plain": [
       "   Dim                    Method  Value  Time\n",
       "0    8       tabu_swap_neighbors     21  0.06\n",
       "1    8                 tabu_swap     21  0.07\n",
       "2    8     tabu_inverse_complete     21  0.15\n",
       "3    8              tabu_inverse     21  0.24\n",
       "4    8             tabu_scramble     21  0.35\n",
       "5    8  tabu_scramble_continuous     21  0.57\n",
       "6    8   tabu_double_bridge_move     23  0.61"
      ]
     },
     "metadata": {},
     "output_type": "display_data"
    }
   ],
   "source": [
    "#generating comparison table\n",
    "from IPython.display import display\n",
    "import pandas as pd\n",
    "dim = num_nodes\n",
    "\n",
    "results = []\n",
    "\n",
    "best = float('inf')\n",
    "best_i = -1\n",
    "\n",
    "average = [0,0,0]\n",
    "\n",
    "number_of_combinations = 0\n",
    "\n",
    "solution_generation = [tabu_swap_neighbors, tabu_swap, tabu_inverse_complete, tabu_inverse, tabu_scramble, tabu_scramble_continuous]\n",
    "for i, sg in enumerate(solution_generation):\n",
    "    method = sg.__name__\n",
    "    results.append({'Dim': dim, 'Method': method, 'Value': values[i], 'Time': times[i], 'Best_Iter': iters[i]})\n",
    "\n",
    "    if values[i] < best:\n",
    "        best = values[i]\n",
    "        best_i = i\n",
    "\n",
    "    average[0] += values[i]\n",
    "    average[1] += times[i] \n",
    "    average[2] += iters[i]\n",
    "\n",
    "    number_of_combinations += 1\n",
    "\n",
    "df = pd.DataFrame(results)\n",
    "#display(df)\n",
    "display(df.drop('Best_Iter', axis=1))  \n",
    "df.to_csv('comparison_tables/tabu_search.csv', mode='a', header=not pd.io.common.file_exists('comparison_tables/tabu_search.csv'), index=False)"
   ]
  },
  {
   "cell_type": "code",
   "execution_count": 20,
   "metadata": {},
   "outputs": [
    {
     "name": "stdout",
     "output_type": "stream",
     "text": [
      "best: tabu_swap_neighbors 21 0.06 15\n"
     ]
    },
    {
     "data": {
      "text/html": [
       "<div>\n",
       "<style scoped>\n",
       "    .dataframe tbody tr th:only-of-type {\n",
       "        vertical-align: middle;\n",
       "    }\n",
       "\n",
       "    .dataframe tbody tr th {\n",
       "        vertical-align: top;\n",
       "    }\n",
       "\n",
       "    .dataframe thead th {\n",
       "        text-align: right;\n",
       "    }\n",
       "</style>\n",
       "<table border=\"1\" class=\"dataframe\">\n",
       "  <thead>\n",
       "    <tr style=\"text-align: right;\">\n",
       "      <th></th>\n",
       "      <th>Dim</th>\n",
       "      <th>Method</th>\n",
       "      <th>Value</th>\n",
       "      <th>Time</th>\n",
       "      <th>Best_Iter</th>\n",
       "    </tr>\n",
       "  </thead>\n",
       "  <tbody>\n",
       "    <tr>\n",
       "      <th>0</th>\n",
       "      <td>8</td>\n",
       "      <td>tabu_swap_neighbors</td>\n",
       "      <td>21</td>\n",
       "      <td>0.06</td>\n",
       "      <td>15</td>\n",
       "    </tr>\n",
       "  </tbody>\n",
       "</table>\n",
       "</div>"
      ],
      "text/plain": [
       "   Dim               Method  Value  Time  Best_Iter\n",
       "0    8  tabu_swap_neighbors     21  0.06         15"
      ]
     },
     "metadata": {},
     "output_type": "display_data"
    }
   ],
   "source": [
    "print('best:', solution_generation[best_i].__name__, values[best_i], times[best_i], iters[best_i])\n",
    "df_best = pd.DataFrame({'Dim': dim, 'Method':  solution_generation[best_i].__name__, 'Value': values[best_i], 'Time': times[best_i], 'Best_Iter': iters[best_i]}, index=[0])\n",
    "display(df_best)"
   ]
  },
  {
   "cell_type": "code",
   "execution_count": 21,
   "metadata": {},
   "outputs": [],
   "source": [
    "df = pd.read_csv('comparison_tables/bests.csv')\n",
    "row_to_update = df[df['Dim'] == num_nodes]\n",
    "\n",
    "if not row_to_update.empty:\n",
    "    \n",
    "    df.loc[row_to_update.index, 'tabu'] = values[best_i]\n",
    "    df.loc[row_to_update.index, 'tabu_time'] = times[best_i]\n",
    "\n",
    "    df.to_csv('comparison_tables/bests.csv', index=False)\n",
    "else:\n",
    "    new_row_data = {'Dim': num_nodes, 'tabu': values[best_i], 'tabu_time': times[best_i]}\n",
    "    df.loc[len(df)] = new_row_data\n",
    "    df.to_csv('comparison_tables/bests.csv', index=False)"
   ]
  },
  {
   "cell_type": "code",
   "execution_count": 22,
   "metadata": {},
   "outputs": [
    {
     "name": "stdout",
     "output_type": "stream",
     "text": [
      "average: [21.29, 0.29, 43.71]\n"
     ]
    },
    {
     "data": {
      "text/html": [
       "<div>\n",
       "<style scoped>\n",
       "    .dataframe tbody tr th:only-of-type {\n",
       "        vertical-align: middle;\n",
       "    }\n",
       "\n",
       "    .dataframe tbody tr th {\n",
       "        vertical-align: top;\n",
       "    }\n",
       "\n",
       "    .dataframe thead th {\n",
       "        text-align: right;\n",
       "    }\n",
       "</style>\n",
       "<table border=\"1\" class=\"dataframe\">\n",
       "  <thead>\n",
       "    <tr style=\"text-align: right;\">\n",
       "      <th></th>\n",
       "      <th>Dim</th>\n",
       "      <th>Value</th>\n",
       "      <th>Time</th>\n",
       "      <th>Best_Iter</th>\n",
       "    </tr>\n",
       "  </thead>\n",
       "  <tbody>\n",
       "    <tr>\n",
       "      <th>0</th>\n",
       "      <td>8</td>\n",
       "      <td>21.29</td>\n",
       "      <td>0.29</td>\n",
       "      <td>43.71</td>\n",
       "    </tr>\n",
       "  </tbody>\n",
       "</table>\n",
       "</div>"
      ],
      "text/plain": [
       "   Dim  Value  Time  Best_Iter\n",
       "0    8  21.29  0.29      43.71"
      ]
     },
     "metadata": {},
     "output_type": "display_data"
    }
   ],
   "source": [
    "average = [average[0] / number_of_combinations, average[1] / number_of_combinations, average[2] / number_of_combinations]\n",
    "average = [round(num, 2) for num in average]\n",
    "print('average:', average)\n",
    "df_avg = pd.DataFrame({'Dim': dim, 'Value': average[0], 'Time': average[1], 'Best_Iter': average[2]}, index=[0])\n",
    "display(df_avg)"
   ]
  },
  {
   "cell_type": "code",
   "execution_count": 23,
   "metadata": {},
   "outputs": [],
   "source": [
    "df = pd.read_csv('comparison_tables/averages.csv')\n",
    "row_to_update = df[df['Dim'] == num_nodes]\n",
    "\n",
    "if not row_to_update.empty:\n",
    "\n",
    "    df.loc[row_to_update.index, 'tabu'] = average[0]\n",
    "    df.loc[row_to_update.index, 'tabu_time'] = average[1]\n",
    "\n",
    "    df.to_csv('comparison_tables/averages.csv', index=False)\n",
    "else:\n",
    "    new_row_data = {'Dim': num_nodes, 'tabu': values[best_i], 'tabu_time': times[best_i]}\n",
    "    df.loc[len(df)] = new_row_data\n",
    "    df.to_csv('comparison_tables/averages.csv', index=False)"
   ]
  }
 ],
 "metadata": {
  "kernelspec": {
   "display_name": "Python 3",
   "language": "python",
   "name": "python3"
  },
  "language_info": {
   "codemirror_mode": {
    "name": "ipython",
    "version": 3
   },
   "file_extension": ".py",
   "mimetype": "text/x-python",
   "name": "python",
   "nbconvert_exporter": "python",
   "pygments_lexer": "ipython3",
   "version": "3.10.11"
  }
 },
 "nbformat": 4,
 "nbformat_minor": 2
}
